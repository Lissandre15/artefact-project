{
 "cells": [
  {
   "cell_type": "code",
   "execution_count": 1,
   "metadata": {},
   "outputs": [],
   "source": [
    "import pandas as pd\n",
    "import pickle\n",
    "from sklearn.pipeline import Pipeline\n",
    "from sklearn.compose import ColumnTransformer\n",
    "from sklearn.preprocessing import StandardScaler, OneHotEncoder\n",
    "from xgboost import XGBRegressor"
   ]
  },
  {
   "cell_type": "code",
   "execution_count": 2,
   "metadata": {},
   "outputs": [],
   "source": [
    "def new_target_price(row, inter_confiance=10):\n",
    "    \"\"\"\n",
    "    Calcule un nouveau prix cible basé sur le rapport entre 'mmr' et 'sellingprice'.\n",
    "    Retourne 'mmr' si le ratio est dans l'intervalle de confiance, sinon 'sellingprice'.\n",
    "    \"\"\"\n",
    "    x, y = row['mmr'], row['sellingprice']\n",
    "    return x if 100 - inter_confiance <= (y / x) * 100 <= 100 + inter_confiance else y\n",
    "\n",
    "def cut_outlier(data, name_column, outlier_min=0, outlier_max=0):\n",
    "    \"\"\"Filtre les valeurs dans l'intervalle spécifié pour la colonne donnée.\"\"\"\n",
    "    return data[(data[name_column] >= outlier_min) & (data[name_column] <= outlier_max)]\n",
    "\n",
    "def cut_categorical(data, name_column, value_min=0):\n",
    "    \"\"\"Garde les catégories avec un nombre minimum d'occurrences.\"\"\"\n",
    "    to_keep = data[name_column].value_counts()[lambda count: count >= value_min].index\n",
    "    return data[data[name_column].isin(to_keep)]\n",
    "\n",
    "def map_condition(x):\n",
    "    if 0 <= x < 1.5:\n",
    "        return 0\n",
    "    elif 1.5 <= x < 3.5:\n",
    "        return 1\n",
    "    elif x >= 3.5:\n",
    "        return 2"
   ]
  },
  {
   "cell_type": "code",
   "execution_count": 3,
   "metadata": {},
   "outputs": [],
   "source": [
    "# Chargement des données\n",
    "data = pd.read_csv(\"<your/path>\", on_bad_lines='skip').drop(columns=['vin', 'trim', 'seller', 'saledate']).dropna()\n",
    "\n",
    "# Map nouvelles 'condition'\n",
    "data['new_condition'] = data['condition'].apply(map_condition)\n",
    "\n",
    "# Application de new_target_price\n",
    "data['new_price'] = data.apply(new_target_price, inter_confiance=5, axis=1)\n",
    "\n",
    "# Drop colonnes en trop\n",
    "data = data.drop(['mmr', 'sellingprice', 'condition'], axis=1)"
   ]
  },
  {
   "cell_type": "code",
   "execution_count": 4,
   "metadata": {},
   "outputs": [],
   "source": [
    "# Filtrage sur 'new_price' et 'odometer'\n",
    "data_filtered = cut_outlier(data, name_column='new_price', outlier_min=1000, outlier_max=60000)\n",
    "data_filtered = cut_outlier(data_filtered, name_column='odometer', outlier_min=0, outlier_max=300000)\n",
    "\n",
    "# Simplification sur 'color' et 'interior'\n",
    "data_filtered['color'] = data_filtered['color'].apply(lambda x: x if x in ['black', 'gray', 'white', 'silver', 'blue', 'red'] else 'other')\n",
    "data_filtered['interior'] = data_filtered['interior'].apply(lambda x: x if x in ['black', 'gray', 'beige', 'tan'] else 'other')\n",
    "\n",
    "# Normalisation sur 'state', 'body', 'model', et 'make'\n",
    "data_filtered['state'] = data_filtered['state'].str.lower()\n",
    "data_filtered['body'] = data_filtered['body'].str.lower()\n",
    "data_filtered['model'] = data_filtered['model'].str.lower()\n",
    "data_filtered['make'] = data_filtered['make'].str.lower()\n",
    "\n",
    "# Filtrage sur pour 'body' et 'model'\n",
    "data_filtered = cut_categorical(data_filtered, name_column='body', value_min=50)\n",
    "data_filtered = cut_categorical(data_filtered, name_column='model', value_min=100)"
   ]
  },
  {
   "cell_type": "code",
   "execution_count": 5,
   "metadata": {},
   "outputs": [],
   "source": [
    "# Séparation X et y\n",
    "X = data_filtered.drop('new_price', axis=1).reset_index(drop=True)\n",
    "y = data_filtered['new_price'].reset_index(drop=True)"
   ]
  },
  {
   "cell_type": "code",
   "execution_count": 6,
   "metadata": {},
   "outputs": [],
   "source": [
    "# Catégorisation des colonnes\n",
    "numerical_features = ['year', 'new_condition', 'odometer']\n",
    "categorical_features = ['make', 'model', 'body', 'transmission', 'state', 'color', 'interior']\n",
    "\n",
    "# Preprocessing (num)\n",
    "numerical_pipeline = Pipeline(steps=[\n",
    "    ('scaler', StandardScaler())\n",
    "])\n",
    "\n",
    "# Preprocessing (cat)\n",
    "categorical_pipeline = Pipeline(steps=[\n",
    "    ('onehot', OneHotEncoder(handle_unknown='ignore', drop=\"first\"))\n",
    "])\n",
    "\n",
    "# Combinaison\n",
    "preprocessor = ColumnTransformer(\n",
    "    transformers=[\n",
    "        ('num', numerical_pipeline, numerical_features),\n",
    "        ('cat', categorical_pipeline, categorical_features)\n",
    "    ])"
   ]
  },
  {
   "cell_type": "code",
   "execution_count": 7,
   "metadata": {},
   "outputs": [],
   "source": [
    "# Pipeline\n",
    "pipeline = Pipeline(steps=[\n",
    "    ('preprocessor', preprocessor),\n",
    "    ('model', XGBRegressor(n_estimators=500, max_depth=10, learning_rate=0.1, n_jobs=-1))\n",
    "    ])\n",
    "\n",
    "# Fit\n",
    "pipeline.fit(X, y)\n",
    "\n",
    "# Save\n",
    "with open('xgboost.pkl', 'wb') as f:\n",
    "    pickle.dump(pipeline, f)"
   ]
  }
 ],
 "metadata": {
  "kernelspec": {
   "display_name": "myenv",
   "language": "python",
   "name": "python3"
  },
  "language_info": {
   "codemirror_mode": {
    "name": "ipython",
    "version": 3
   },
   "file_extension": ".py",
   "mimetype": "text/x-python",
   "name": "python",
   "nbconvert_exporter": "python",
   "pygments_lexer": "ipython3",
   "version": "3.10.6"
  }
 },
 "nbformat": 4,
 "nbformat_minor": 2
}
